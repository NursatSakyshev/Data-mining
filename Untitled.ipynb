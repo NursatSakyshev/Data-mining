{
 "cells": [
  {
   "cell_type": "code",
   "execution_count": 3,
   "id": "87557c8d-043d-4553-be31-ce15783b311c",
   "metadata": {},
   "outputs": [
    {
     "name": "stdout",
     "output_type": "stream",
     "text": [
      "            Date        Open        High         Low       Close   Adj Close  \\\n",
      "0     2015-08-25   27.777500           -         NaN   25.934999       ERROR   \n",
      "1     2015-08-26   26.772499   27.472500   26.262501   27.422501   25.039267   \n",
      "2     2015-08-27   28.057501   28.309999   27.504999   28.230000   25.776581   \n",
      "3     2015-08-28   28.042500   28.327499   27.885000   28.322500   25.861042   \n",
      "4     2015-08-31   28.007500   28.632500   28.000000   28.190001   25.740063   \n",
      "...          ...         ...         ...         ...         ...         ...   \n",
      "1769  2022-08-18  173.750000  174.899994  173.119995  174.149994  174.149994   \n",
      "1770  2022-08-19  173.029999  173.740005  171.309998  171.520004  171.520004   \n",
      "1771  2022-08-22  169.690002  169.860001  167.139999  167.570007  167.570007   \n",
      "1772  2022-08-23  167.080002  168.710007  166.649994  167.229996  167.229996   \n",
      "1773  2022-08-24  167.320007  168.110001  166.250000  167.529999  167.529999   \n",
      "\n",
      "         Volume  \n",
      "0     414406400  \n",
      "1     387098400  \n",
      "2     338464400  \n",
      "3         ERROR  \n",
      "4     224917200  \n",
      "...         ...  \n",
      "1769   62290100  \n",
      "1770   70211500  \n",
      "1771   69026800  \n",
      "1772   54147100  \n",
      "1773   53766800  \n",
      "\n",
      "[1774 rows x 7 columns]\n"
     ]
    }
   ],
   "source": [
    "import pandas as pd\n",
    "from sklearn.preprocessing import MinMaxScaler\n",
    "from sklearn.preprocessing import OneHotEncoder\n",
    "from sklearn.preprocessing import PolynomialFeatures\n",
    "from sklearn.model_selection import train_test_split\n",
    "# df = pd.read_csv(\"annual-enterprise-survey-2023-financial-year-provisional.csv\")\n",
    "df = pd.read_csv(\"Apple_price_to_clean.csv\")\n",
    "print(df)"
   ]
  },
  {
   "cell_type": "code",
   "execution_count": 7,
   "id": "65ce69f6-852a-45af-89c7-86e16e6f7be8",
   "metadata": {},
   "outputs": [
    {
     "name": "stdout",
     "output_type": "stream",
     "text": [
      "         Date       Open       High        Low      Close  Adj Close  \\\n",
      "0  2015-08-25  27.777500          -        NaN  25.934999      ERROR   \n",
      "1  2015-08-26  26.772499  27.472500  26.262501  27.422501  25.039267   \n",
      "2  2015-08-27  28.057501  28.309999  27.504999  28.230000  25.776581   \n",
      "3  2015-08-28  28.042500  28.327499  27.885000  28.322500  25.861042   \n",
      "4  2015-08-31  28.007500  28.632500  28.000000  28.190001  25.740063   \n",
      "\n",
      "      Volume  \n",
      "0  414406400  \n",
      "1  387098400  \n",
      "2  338464400  \n",
      "3      ERROR  \n",
      "4  224917200  \n",
      "            Date        Open        High         Low       Close   Adj Close  \\\n",
      "1769  2022-08-18  173.750000  174.899994  173.119995  174.149994  174.149994   \n",
      "1770  2022-08-19  173.029999  173.740005  171.309998  171.520004  171.520004   \n",
      "1771  2022-08-22  169.690002  169.860001  167.139999  167.570007  167.570007   \n",
      "1772  2022-08-23  167.080002  168.710007  166.649994  167.229996  167.229996   \n",
      "1773  2022-08-24  167.320007  168.110001  166.250000  167.529999  167.529999   \n",
      "\n",
      "        Volume  \n",
      "1769  62290100  \n",
      "1770  70211500  \n",
      "1771  69026800  \n",
      "1772  54147100  \n",
      "1773  53766800  \n",
      "<class 'pandas.core.frame.DataFrame'>\n",
      "RangeIndex: 1774 entries, 0 to 1773\n",
      "Data columns (total 7 columns):\n",
      " #   Column     Non-Null Count  Dtype  \n",
      "---  ------     --------------  -----  \n",
      " 0   Date       1773 non-null   object \n",
      " 1   Open       1774 non-null   object \n",
      " 2   High       1773 non-null   object \n",
      " 3   Low        1772 non-null   float64\n",
      " 4   Close      1772 non-null   object \n",
      " 5   Adj Close  1774 non-null   object \n",
      " 6   Volume     1773 non-null   object \n",
      "dtypes: float64(1), object(6)\n",
      "memory usage: 97.1+ KB\n",
      "None\n",
      "       Date   Open   High    Low  Close  Adj Close  Volume\n",
      "0     False  False  False   True  False      False   False\n",
      "1     False  False  False  False  False      False   False\n",
      "2     False  False  False  False  False      False   False\n",
      "3     False  False  False  False  False      False   False\n",
      "4     False  False  False  False  False      False   False\n",
      "...     ...    ...    ...    ...    ...        ...     ...\n",
      "1769  False  False  False  False  False      False   False\n",
      "1770  False  False  False  False  False      False   False\n",
      "1771  False  False  False  False  False      False   False\n",
      "1772  False  False  False  False  False      False   False\n",
      "1773  False  False  False  False  False      False   False\n",
      "\n",
      "[1774 rows x 7 columns]\n",
      "Date          object\n",
      "Open          object\n",
      "High          object\n",
      "Low          float64\n",
      "Close         object\n",
      "Adj Close     object\n",
      "Volume        object\n",
      "dtype: object\n"
     ]
    }
   ],
   "source": [
    "print(df.head())\n",
    "\n",
    "print(df.tail())\n",
    "\n",
    "print(df.info())\n",
    "\n",
    "print(df.isnull())\n",
    "\n",
    "print(df.dtypes)"
   ]
  },
  {
   "cell_type": "code",
   "execution_count": 9,
   "id": "02d08608-892b-4321-8c84-b2a1ab8e83df",
   "metadata": {},
   "outputs": [
    {
     "name": "stdout",
     "output_type": "stream",
     "text": [
      "            Date        Open        High         Low       Close   Adj Close  \\\n",
      "1     2015-08-26   26.772499   27.472500   26.262501   27.422501   25.039267   \n",
      "2     2015-08-27   28.057501   28.309999   27.504999   28.230000   25.776581   \n",
      "3     2015-08-28   28.042500   28.327499   27.885000   28.322500   25.861042   \n",
      "4     2015-08-31   28.007500   28.632500   28.000000   28.190001   25.740063   \n",
      "6     2015-09-02   27.557501   28.084999   27.282499   28.084999   25.644186   \n",
      "...          ...         ...         ...         ...         ...         ...   \n",
      "1769  2022-08-18  173.750000  174.899994  173.119995  174.149994  174.149994   \n",
      "1770  2022-08-19  173.029999  173.740005  171.309998  171.520004  171.520004   \n",
      "1771  2022-08-22  169.690002  169.860001  167.139999  167.570007  167.570007   \n",
      "1772  2022-08-23  167.080002  168.710007  166.649994  167.229996  167.229996   \n",
      "1773  2022-08-24  167.320007  168.110001  166.250000  167.529999  167.529999   \n",
      "\n",
      "         Volume  \n",
      "1     387098400  \n",
      "2     338464400  \n",
      "3         ERROR  \n",
      "4     224917200  \n",
      "6     247555200  \n",
      "...         ...  \n",
      "1769   62290100  \n",
      "1770   70211500  \n",
      "1771   69026800  \n",
      "1772   54147100  \n",
      "1773   53766800  \n",
      "\n",
      "[1767 rows x 7 columns]\n",
      "Date         0\n",
      "Open         0\n",
      "High         0\n",
      "Low          0\n",
      "Close        0\n",
      "Adj Close    0\n",
      "Volume       0\n",
      "dtype: int64\n"
     ]
    }
   ],
   "source": [
    "df_cleaned = df.dropna()\n",
    "print(df_cleaned)\n",
    "print(df_cleaned.isnull().sum())"
   ]
  },
  {
   "cell_type": "code",
   "execution_count": 13,
   "id": "725d561a-7b73-4a5f-a084-e663c75722a4",
   "metadata": {},
   "outputs": [
    {
     "name": "stdout",
     "output_type": "stream",
     "text": [
      "            Date        Open        High         Low       Close   Adj Close  \\\n",
      "0     2015-08-25   27.777500           -   73.174203   25.934999       ERROR   \n",
      "1     2015-08-26   26.772499   27.472500   26.262501   27.422501   25.039267   \n",
      "2     2015-08-27   28.057501   28.309999   27.504999   28.230000   25.776581   \n",
      "3     2015-08-28   28.042500   28.327499   27.885000   28.322500   25.861042   \n",
      "4     2015-08-31   28.007500   28.632500   28.000000   28.190001   25.740063   \n",
      "...          ...         ...         ...         ...         ...         ...   \n",
      "1769  2022-08-18  173.750000  174.899994  173.119995  174.149994  174.149994   \n",
      "1770  2022-08-19  173.029999  173.740005  171.309998  171.520004  171.520004   \n",
      "1771  2022-08-22  169.690002  169.860001  167.139999  167.570007  167.570007   \n",
      "1772  2022-08-23  167.080002  168.710007  166.649994  167.229996  167.229996   \n",
      "1773  2022-08-24  167.320007  168.110001  166.250000  167.529999  167.529999   \n",
      "\n",
      "         Volume  \n",
      "0     414406400  \n",
      "1     387098400  \n",
      "2     338464400  \n",
      "3         ERROR  \n",
      "4     224917200  \n",
      "...         ...  \n",
      "1769   62290100  \n",
      "1770   70211500  \n",
      "1771   69026800  \n",
      "1772   54147100  \n",
      "1773   53766800  \n",
      "\n",
      "[1774 rows x 7 columns]\n"
     ]
    }
   ],
   "source": [
    "df_fill_mean = df.fillna(df.mean(numeric_only=True))\n",
    "print(df_fill_mean)"
   ]
  },
  {
   "cell_type": "code",
   "execution_count": 15,
   "id": "29f9c195-93e7-4c14-ab49-9c6963a32718",
   "metadata": {},
   "outputs": [
    {
     "name": "stdout",
     "output_type": "stream",
     "text": [
      "            Date        Open        High         Low       Close   Adj Close  \\\n",
      "0     2015-08-25   27.777500           -   49.543749   25.934999       ERROR   \n",
      "1     2015-08-26   26.772499   27.472500   26.262501   27.422501   25.039267   \n",
      "2     2015-08-27   28.057501   28.309999   27.504999   28.230000   25.776581   \n",
      "3     2015-08-28   28.042500   28.327499   27.885000   28.322500   25.861042   \n",
      "4     2015-08-31   28.007500   28.632500   28.000000   28.190001   25.740063   \n",
      "...          ...         ...         ...         ...         ...         ...   \n",
      "1769  2022-08-18  173.750000  174.899994  173.119995  174.149994  174.149994   \n",
      "1770  2022-08-19  173.029999  173.740005  171.309998  171.520004  171.520004   \n",
      "1771  2022-08-22  169.690002  169.860001  167.139999  167.570007  167.570007   \n",
      "1772  2022-08-23  167.080002  168.710007  166.649994  167.229996  167.229996   \n",
      "1773  2022-08-24  167.320007  168.110001  166.250000  167.529999  167.529999   \n",
      "\n",
      "         Volume  \n",
      "0     414406400  \n",
      "1     387098400  \n",
      "2     338464400  \n",
      "3         ERROR  \n",
      "4     224917200  \n",
      "...         ...  \n",
      "1769   62290100  \n",
      "1770   70211500  \n",
      "1771   69026800  \n",
      "1772   54147100  \n",
      "1773   53766800  \n",
      "\n",
      "[1774 rows x 7 columns]\n"
     ]
    }
   ],
   "source": [
    "df_fill_median = df.fillna(df.median(numeric_only=True))\n",
    "print(df_fill_median)"
   ]
  },
  {
   "cell_type": "code",
   "execution_count": 17,
   "id": "c8c63608-ee84-4700-9061-e472ccf62c7a",
   "metadata": {},
   "outputs": [
    {
     "name": "stdout",
     "output_type": "stream",
     "text": [
      "Date         0\n",
      "Open         0\n",
      "High         0\n",
      "Low          0\n",
      "Close        0\n",
      "Adj Close    0\n",
      "Volume       0\n",
      "dtype: int64\n"
     ]
    }
   ],
   "source": [
    "df_filled_value = df.fillna(0)\n",
    "print(df_filled_value.isnull().sum())"
   ]
  },
  {
   "cell_type": "code",
   "execution_count": 25,
   "id": "a287f9d7-b686-429d-b93b-9fe1950600ae",
   "metadata": {},
   "outputs": [
    {
     "name": "stdout",
     "output_type": "stream",
     "text": [
      "            Date        Open        High         Low       Close   Adj Close  \\\n",
      "0     2015-08-25   27.777500           -         NaN   25.934999       ERROR   \n",
      "1     2015-08-26   26.772499   27.472500   26.262501   27.422501   25.039267   \n",
      "2     2015-08-27   28.057501   28.309999   27.504999   28.230000   25.776581   \n",
      "3     2015-08-28   28.042500   28.327499   27.885000   28.322500   25.861042   \n",
      "4     2015-08-31   28.007500   28.632500   28.000000   28.190001   25.740063   \n",
      "...          ...         ...         ...         ...         ...         ...   \n",
      "1769  2022-08-18  173.750000  174.899994  173.119995  174.149994  174.149994   \n",
      "1770  2022-08-19  173.029999  173.740005  171.309998  171.520004  171.520004   \n",
      "1771  2022-08-22  169.690002  169.860001  167.139999  167.570007  167.570007   \n",
      "1772  2022-08-23  167.080002  168.710007  166.649994  167.229996  167.229996   \n",
      "1773  2022-08-24  167.320007  168.110001  166.250000  167.529999  167.529999   \n",
      "\n",
      "         Volume  \n",
      "0     414406400  \n",
      "1     387098400  \n",
      "2     338464400  \n",
      "3         ERROR  \n",
      "4     224917200  \n",
      "...         ...  \n",
      "1769   62290100  \n",
      "1770   70211500  \n",
      "1771   69026800  \n",
      "1772   54147100  \n",
      "1773   53766800  \n",
      "\n",
      "[1774 rows x 7 columns]\n"
     ]
    }
   ],
   "source": [
    "df_filled_ffill = df.ffill()\n",
    "print(df_filled_ffill)"
   ]
  },
  {
   "cell_type": "code",
   "execution_count": 29,
   "id": "6e2fbf1c-3a11-4611-8b71-3d2d84c43878",
   "metadata": {},
   "outputs": [
    {
     "name": "stdout",
     "output_type": "stream",
     "text": [
      "            Date        Open        High         Low       Close   Adj Close  \\\n",
      "0     2015-08-25   27.777500           -   26.262501   25.934999       ERROR   \n",
      "1     2015-08-26   26.772499   27.472500   26.262501   27.422501   25.039267   \n",
      "2     2015-08-27   28.057501   28.309999   27.504999   28.230000   25.776581   \n",
      "3     2015-08-28   28.042500   28.327499   27.885000   28.322500   25.861042   \n",
      "4     2015-08-31   28.007500   28.632500   28.000000   28.190001   25.740063   \n",
      "...          ...         ...         ...         ...         ...         ...   \n",
      "1769  2022-08-18  173.750000  174.899994  173.119995  174.149994  174.149994   \n",
      "1770  2022-08-19  173.029999  173.740005  171.309998  171.520004  171.520004   \n",
      "1771  2022-08-22  169.690002  169.860001  167.139999  167.570007  167.570007   \n",
      "1772  2022-08-23  167.080002  168.710007  166.649994  167.229996  167.229996   \n",
      "1773  2022-08-24  167.320007  168.110001  166.250000  167.529999  167.529999   \n",
      "\n",
      "         Volume  \n",
      "0     414406400  \n",
      "1     387098400  \n",
      "2     338464400  \n",
      "3         ERROR  \n",
      "4     224917200  \n",
      "...         ...  \n",
      "1769   62290100  \n",
      "1770   70211500  \n",
      "1771   69026800  \n",
      "1772   54147100  \n",
      "1773   53766800  \n",
      "\n",
      "[1774 rows x 7 columns]\n"
     ]
    }
   ],
   "source": [
    "df_filled_ffill = df.bfill()\n",
    "print(df_filled_ffill)"
   ]
  },
  {
   "cell_type": "code",
   "execution_count": 31,
   "id": "86d26066-bb61-4252-8788-4cb7f3e47998",
   "metadata": {},
   "outputs": [
    {
     "name": "stdout",
     "output_type": "stream",
     "text": [
      "   score\n",
      "0   0.00\n",
      "1   0.25\n",
      "2   0.50\n",
      "3   0.75\n",
      "4   1.00\n"
     ]
    }
   ],
   "source": [
    "#3\n",
    "\n",
    "data = pd.DataFrame({\n",
    "    'score': [100, 150, 200, 250, 300]\n",
    "})\n",
    "\n",
    "scaler = MinMaxScaler()\n",
    "data[['score']] = scaler.fit_transform(data[['score']])\n",
    "print(data)"
   ]
  },
  {
   "cell_type": "code",
   "execution_count": 33,
   "id": "f693cdd4-edb5-4e06-b111-fca255057327",
   "metadata": {},
   "outputs": [
    {
     "name": "stdout",
     "output_type": "stream",
     "text": [
      "   Amount  Type_X  Type_Y  Type_Z\n",
      "0      10     1.0     0.0     0.0\n",
      "1       5     0.0     1.0     0.0\n",
      "2      20     0.0     0.0     1.0\n",
      "3      15     1.0     0.0     0.0\n"
     ]
    }
   ],
   "source": [
    " data = pd.DataFrame({\n",
    "    'Type': ['X', 'Y', 'Z', 'X'],\n",
    "    'Amount': [10, 5, 20, 15]\n",
    "})\n",
    "\n",
    "encoder = OneHotEncoder(sparse_output=False)\n",
    "encoded = encoder.fit_transform(data[['Type']])\n",
    "\n",
    "encoded_df = pd.DataFrame(encoded, columns=encoder.get_feature_names_out(['Type']))\n",
    "\n",
    "final_data = pd.concat([data.drop('Type', axis=1), encoded_df], axis=1)\n",
    "print(final_data)"
   ]
  },
  {
   "cell_type": "code",
   "execution_count": 35,
   "id": "bc1f4562-97cd-497f-9997-3bfb677839e8",
   "metadata": {},
   "outputs": [
    {
     "name": "stdout",
     "output_type": "stream",
     "text": [
      "   Score Score_Group\n",
      "0      8         Low\n",
      "1     18         Low\n",
      "2     28      Medium\n",
      "3     38      Medium\n",
      "4     48      Medium\n",
      "5     58        High\n",
      "6     68        High\n",
      "7     78   Very High\n",
      "8     88   Very High\n",
      "9     98   Very High\n"
     ]
    }
   ],
   "source": [
    "data = pd.DataFrame({\n",
    "    'Score': [8, 18, 28, 38, 48, 58, 68, 78, 88, 98]\n",
    "})\n",
    "\n",
    "intervals = [0, 25, 50, 75, 100]\n",
    "categories = ['Low', 'Medium', 'High', 'Very High']\n",
    "\n",
    "data['Score_Group'] = pd.cut(data['Score'], bins=intervals, labels=categories)\n",
    "print(data)"
   ]
  },
  {
   "cell_type": "code",
   "execution_count": 39,
   "id": "f327f0db-bb56-434b-9806-e63f10bbcc5f",
   "metadata": {},
   "outputs": [
    {
     "name": "stdout",
     "output_type": "stream",
     "text": [
      "   Data1  Data2  Result\n",
      "0      1      5       5\n",
      "1      2      6      12\n",
      "2      3      7      21\n",
      "3      4      8      32\n"
     ]
    }
   ],
   "source": [
    "#4\n",
    "df = pd.DataFrame({\n",
    "    'Data1':[1, 2, 3, 4],\n",
    "    'Data2':[5, 6, 7, 8]\n",
    "})\n",
    "\n",
    "df['Result'] = df['Data1'] * df['Data2']\n",
    "print(df)"
   ]
  },
  {
   "cell_type": "code",
   "execution_count": 41,
   "id": "25446b3c-18ab-4913-ae3d-d97c7c600e06",
   "metadata": {},
   "outputs": [
    {
     "name": "stdout",
     "output_type": "stream",
     "text": [
      "[[1. 1. 1. 1. 1.]\n",
      " [2. 2. 4. 4. 4.]\n",
      " [3. 3. 9. 9. 9.]]\n"
     ]
    }
   ],
   "source": [
    "df = pd.DataFrame({\n",
    "    'Feature1':[1, 2, 3],\n",
    "    'Feature2':[1, 2, 3]\n",
    "})\n",
    "\n",
    "poly = PolynomialFeatures(degree=2, include_bias = False)\n",
    "result = poly.fit_transform(df)\n",
    "\n",
    "print(result)"
   ]
  },
  {
   "cell_type": "code",
   "execution_count": 45,
   "id": "78646172-0f4c-476f-b72e-737a3231829e",
   "metadata": {},
   "outputs": [
    {
     "name": "stdout",
     "output_type": "stream",
     "text": [
      "        Date  Year  Month  Day\n",
      "0 2023-01-01  2023      1    1\n",
      "1 2023-05-15  2023      5   15\n",
      "2 2024-07-20  2024      7   20\n"
     ]
    }
   ],
   "source": [
    "df = pd.DataFrame({\n",
    "    'Date' : ['2023-01-01', '2023-05-15', '2024-07-20']\n",
    "})\n",
    "\n",
    "df['Date'] = pd.to_datetime(df['Date'])\n",
    "\n",
    "# extracting year, month, day\n",
    "df['Year'] = df['Date'].dt.year\n",
    "df['Month'] = df['Date'].dt.month\n",
    "df['Day'] = df['Date'].dt.day\n",
    "\n",
    "print(df)"
   ]
  },
  {
   "cell_type": "code",
   "execution_count": 47,
   "id": "6a38ed5e-6378-4d00-b64d-9b5956fd67e2",
   "metadata": {},
   "outputs": [
    {
     "name": "stdout",
     "output_type": "stream",
     "text": [
      "       Time  Time_hour\n",
      "0  05:30:00    Morning\n",
      "1  13:25:00  Afternoon\n",
      "2  19:00:00    Evening\n",
      "3  23:30:00      Night\n"
     ]
    }
   ],
   "source": [
    "df = pd.DataFrame({\n",
    "    'Time' : ['05:30', '13:25', '19:00', '23:30']\n",
    "})\n",
    "\n",
    "df['Time'] = pd.to_datetime(df['Time'], format='%H:%M').dt.time\n",
    "\n",
    "def time_of_day(hour):\n",
    "    if 5 <= hour < 12:\n",
    "        return 'Morning'\n",
    "    elif 12 <= hour < 18:\n",
    "        return 'Afternoon'\n",
    "    elif 18 <= hour < 22:\n",
    "        return 'Evening'\n",
    "    else:\n",
    "        return 'Night'\n",
    "\n",
    "df['Time_hour'] = df['Time'].apply(lambda x:time_of_day(x.hour))\n",
    "print(df)"
   ]
  },
  {
   "cell_type": "code",
   "execution_count": 59,
   "id": "07d0180c-6d7e-441c-8232-641704afb836",
   "metadata": {},
   "outputs": [
    {
     "name": "stdout",
     "output_type": "stream",
     "text": [
      "      Product  Price   Store\n",
      "0     Desktop   1200  Newegg\n",
      "1  Smartwatch    400    eBay\n",
      "2    E-reader    350  Target\n",
      "3     Desktop   1200  Newegg\n",
      "4  Smartwatch    400    eBay\n",
      "\n",
      "      Product  Price   Store\n",
      "0     Desktop   1200  Newegg\n",
      "1  Smartwatch    400    eBay\n",
      "2    E-reader    350  Target\n"
     ]
    }
   ],
   "source": [
    "#5\n",
    "data = {\n",
    "   'Product': ['Desktop', 'Smartwatch', 'E-reader', 'Desktop', 'Smartwatch'],\n",
    "    'Price': [1200, 400, 350, 1200, 400],\n",
    "    'Store': ['Newegg', 'eBay', 'Target', 'Newegg', 'eBay']\n",
    "}\n",
    "print(df)\n",
    "print()\n",
    "df = pd.DataFrame(data)\n",
    "df_cleaned = df.drop_duplicates()\n",
    "print(df_cleaned)"
   ]
  },
  {
   "cell_type": "code",
   "execution_count": 65,
   "id": "790bd9e4-066b-4aca-ad7b-cf93a12af9a1",
   "metadata": {},
   "outputs": [
    {
     "name": "stdout",
     "output_type": "stream",
     "text": [
      "              Item  Price\n",
      "0          Monitor    350\n",
      "1  Air Conditioner    750\n",
      "2          Blender     60\n",
      "3       Dishwasher    700\n",
      "4          Toaster    100\n",
      "              Item  Price\n",
      "0          Monitor    350\n",
      "1  Air Conditioner    750\n",
      "2          Blender     60\n",
      "3       Dishwasher    700\n",
      "4          Toaster    100\n"
     ]
    }
   ],
   "source": [
    "data = {\n",
    "    'Item': ['Monitor', 'Air Conditioner', 'Blender', 'Dishwasher', 'Toaster'],\n",
    "    'Price': [350, 750, 60, 700, 100]  \n",
    "}\n",
    "df = pd.DataFrame(data)\n",
    "print(df)\n",
    "Q1 = df['Price'].quantile(0.25)\n",
    "Q3 = df['Price'].quantile(0.75)\n",
    "IQR = Q3 - Q1\n",
    "lower_bound = Q1 - 1.5 * IQR\n",
    "upper_bound = Q3 + 1.5 * IQR\n",
    "df_no_outliers = df[(df['Price'] >= lower_bound) & (df['Price'] <= upper_bound)]\n",
    "print(df_no_outliers)"
   ]
  },
  {
   "cell_type": "code",
   "execution_count": 69,
   "id": "446a5cd0-bc13-4051-bae4-ee4c63aecc91",
   "metadata": {},
   "outputs": [
    {
     "name": "stdout",
     "output_type": "stream",
     "text": [
      "   Employee Department\n",
      "0    Nursat    Finance\n",
      "1    Nursat    Finance\n",
      "2  Football         Hr\n",
      "3  Football         Hr\n",
      "4     Frank    Support\n"
     ]
    }
   ],
   "source": [
    "data = {\n",
    "    'Employee': ['Nursat', 'NURSAT', 'Football', 'FOOTBALL', 'Frank'],\n",
    "    'Department': ['Finance', 'finance', 'HR', 'hr', 'Support']\n",
    "}\n",
    "df = pd.DataFrame(data)\n",
    "df['Employee'] = df['Employee'].str.lower().str.capitalize()\n",
    "df['Department'] = df['Department'].str.capitalize()\n",
    "print(df)"
   ]
  },
  {
   "cell_type": "code",
   "execution_count": 43,
   "id": "010e9c1d-2ad5-4372-9730-3fb8c146ea2f",
   "metadata": {},
   "outputs": [
    {
     "name": "stdout",
     "output_type": "stream",
     "text": [
      "0    0\n",
      "1    1\n",
      "2    1\n",
      "3    0\n",
      "4    1\n",
      "Name: Promoted, dtype: int64\n",
      "Accuracy with 70-30 split: 0.50\n",
      "Accuracy with 80-20 split: 1.00\n"
     ]
    }
   ],
   "source": [
    "# 6\n",
    "from sklearn.linear_model import LogisticRegression\n",
    "from sklearn.metrics import accuracy_score\n",
    "\n",
    "data = {\n",
    "    'Experience': [2, 7, 10, 3, 5],\n",
    "    'Hours_Worked': [30, 40, 50, 25, 35],\n",
    "    'Promoted': [0, 1, 1, 0, 1]  # 0 = Not Promoted, 1 = Promoted\n",
    "}\n",
    "\n",
    "df = pd.DataFrame(data)\n",
    "\n",
    "X = df.drop('Promoted', axis=1)  # 'Experience' and 'Hours_Worked'\n",
    "y = df['Promoted']  # Target: 'Promoted'\n",
    "print(y)\n",
    "\n",
    "# 70-30 and 80-20 splits\n",
    "X_train_70, X_test_30, y_train_70, y_test_30 = train_test_split(X, y, test_size=0.3, random_state=42)\n",
    "X_train_80, X_test_20, y_train_80, y_test_20 = train_test_split(X, y, test_size=0.2, random_state=42)\n",
    "\n",
    "model = LogisticRegression()\n",
    "\n",
    "model.fit(X_train_70, y_train_70)\n",
    "predictions_70 = model.predict(X_test_30)\n",
    "accuracy_70 = accuracy_score(y_test_30, predictions_70)\n",
    "\n",
    "model.fit(X_train_80, y_train_80)\n",
    "predictions_80 = model.predict(X_test_20)\n",
    "accuracy_80 = accuracy_score(y_test_20, predictions_80)\n",
    "\n",
    "print(f\"Accuracy with 70-30 split: {accuracy_70:.2f}\")\n",
    "print(f\"Accuracy with 80-20 split: {accuracy_80:.2f}\")"
   ]
  },
  {
   "cell_type": "code",
   "execution_count": 47,
   "id": "6527d8ca-0d03-4f9a-88c4-4a6d93af98aa",
   "metadata": {},
   "outputs": [],
   "source": [
    "# 7\n",
    "import pandas as pd\n",
    "from sklearn.model_selection import train_test_split\n",
    "from sklearn.preprocessing import StandardScaler, OneHotEncoder\n",
    "from sklearn.impute import SimpleImputer\n",
    "from sklearn.compose import ColumnTransformer\n",
    "from sklearn.pipeline import Pipeline\n",
    "from sklearn.ensemble import RandomForestClassifier\n",
    "from sklearn.metrics import classification_report"
   ]
  },
  {
   "cell_type": "code",
   "execution_count": 49,
   "id": "57320726-7d0d-4867-ad44-ec353efbdd5c",
   "metadata": {},
   "outputs": [],
   "source": [
    "df = pd.DataFrame({\n",
    "    'Experience': [1, 5, None, 10, 3],\n",
    "    'Department': ['HR', 'IT', 'HR', 'Finance', 'IT'],\n",
    "    'Promoted': [0, 1, 1, 0, 1]\n",
    "})\n"
   ]
  },
  {
   "cell_type": "code",
   "execution_count": 51,
   "id": "e65f834a-b7a3-4061-bb4d-850bad75a97f",
   "metadata": {},
   "outputs": [
    {
     "name": "stdout",
     "output_type": "stream",
     "text": [
      "Classification Report:\n",
      "              precision    recall  f1-score   support\n",
      "\n",
      "           0       0.00      1.00      0.00         0\n",
      "           1       1.00      0.50      0.67         2\n",
      "\n",
      "    accuracy                           0.50         2\n",
      "   macro avg       0.50      0.75      0.33         2\n",
      "weighted avg       1.00      0.50      0.67         2\n",
      "\n"
     ]
    }
   ],
   "source": [
    "X = df.drop('Promoted', axis=1)\n",
    "y = df['Promoted']\n",
    "\n",
    "X_train, X_test, y_train, y_test = train_test_split(X, y, test_size=0.25, random_state=42)\n",
    "\n",
    "numerical_features = ['Experience']\n",
    "categorical_features = ['Department']\n",
    "\n",
    "numerical_pipeline = Pipeline(steps=[\n",
    "    ('imputer', SimpleImputer(strategy='median')), \n",
    "    ('scaler', StandardScaler())              \n",
    "])\n",
    "\n",
    "categorical_pipeline = Pipeline(steps=[\n",
    "    ('imputer', SimpleImputer(strategy='most_frequent')), \n",
    "    ('onehot', OneHotEncoder(handle_unknown='ignore'))\n",
    "])\n",
    "\n",
    "preprocessor = ColumnTransformer(\n",
    "    transformers=[\n",
    "        ('num', numerical_pipeline, numerical_features),\n",
    "        ('cat', categorical_pipeline, categorical_features)\n",
    "    ]\n",
    ")\n",
    "\n",
    "full_pipeline = Pipeline(steps=[\n",
    "    ('preprocessor', preprocessor),\n",
    "    ('model', RandomForestClassifier())\n",
    "])\n",
    "\n",
    "full_pipeline.fit(X_train, y_train)\n",
    "\n",
    "predictions = full_pipeline.predict(X_test)\n",
    "report = classification_report(y_test, predictions, zero_division=1)\n",
    "\n",
    "print(f\"Classification Report:\\n{report}\")"
   ]
  },
  {
   "cell_type": "code",
   "execution_count": null,
   "id": "93cb02c5-c169-4972-8322-72e7d28cf7c0",
   "metadata": {},
   "outputs": [],
   "source": []
  },
  {
   "cell_type": "code",
   "execution_count": null,
   "id": "8faf58fb-1cd6-4f33-b43f-50b59166b613",
   "metadata": {},
   "outputs": [],
   "source": []
  },
  {
   "cell_type": "code",
   "execution_count": null,
   "id": "058bfd5f-2cc2-4e28-9008-149963e077ac",
   "metadata": {},
   "outputs": [],
   "source": []
  }
 ],
 "metadata": {
  "kernelspec": {
   "display_name": "Python 3 (ipykernel)",
   "language": "python",
   "name": "python3"
  },
  "language_info": {
   "codemirror_mode": {
    "name": "ipython",
    "version": 3
   },
   "file_extension": ".py",
   "mimetype": "text/x-python",
   "name": "python",
   "nbconvert_exporter": "python",
   "pygments_lexer": "ipython3",
   "version": "3.12.4"
  }
 },
 "nbformat": 4,
 "nbformat_minor": 5
}
